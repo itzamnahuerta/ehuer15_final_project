{
 "cells": [
  {
   "cell_type": "markdown",
   "id": "1b62b569",
   "metadata": {},
   "source": [
    "<b>Hypothesis:</b> There is a positive correlation between the population density values and the number of surveillance camera points.\n",
    "\n",
    "<b>Null Hypothesis:</b> There is no correlation between the population density values and the number of surveillance camera points."
   ]
  },
  {
   "cell_type": "code",
   "execution_count": 2,
   "id": "40cbc5f1",
   "metadata": {
    "scrolled": false
   },
   "outputs": [],
   "source": [
    "import pandas as pd \n",
    "import numpy as np\n",
    "\n",
    "# stats\n",
    "from scipy.stats import pearsonr\n",
    "\n",
    "# spatial\n",
    "import geopandas as gpd\n",
    "from shapely.geometry import Point\n",
    "import contextily as cx\n",
    "\n",
    "# raster\n",
    "import rasterio\n",
    "from rasterio.plot import show\n",
    "import matplotlib.pyplot as plt\n",
    "\n",
    "\n",
    "# plot\n",
    "import seaborn as sns\n",
    "import matplotlib.pyplot as plt\n",
    "\n",
    "# image size\n",
    "from IPython.core.pylabtools import figsize\n",
    "figsize(12,12)"
   ]
  },
  {
   "cell_type": "code",
   "execution_count": 3,
   "id": "527f82dc",
   "metadata": {},
   "outputs": [],
   "source": [
    "# NYC Surveillance Cameras\n",
    "gdf = gpd.read_file('../data/NYC_Surveillance_SHP/counts_per_intersections.shp')\n",
    "\n",
    "# Landscan Population Density \n",
    "lpd_day = rasterio.open('../data/LandScan_Clipped_NYC/day_clipped_population_density.tif')\n",
    "lpd_night = rasterio.open('../data/LandScan_Clipped_NYC/night_clipped_population_density.tif')"
   ]
  },
  {
   "cell_type": "code",
   "execution_count": 5,
   "id": "a5967401",
   "metadata": {},
   "outputs": [
    {
     "ename": "RasterioIOError",
     "evalue": "Dataset is closed: ../data/LandScan_Clipped_NYC/day_clipped_population_density.tif",
     "output_type": "error",
     "traceback": [
      "\u001b[0;31m---------------------------------------------------------------------------\u001b[0m",
      "\u001b[0;31mRasterioIOError\u001b[0m                           Traceback (most recent call last)",
      "Cell \u001b[0;32mIn[5], line 3\u001b[0m\n\u001b[1;32m      1\u001b[0m \u001b[38;5;66;03m# Load the population density TIF file\u001b[39;00m\n\u001b[1;32m      2\u001b[0m \u001b[38;5;28;01mwith\u001b[39;00m lpd_day \u001b[38;5;28;01mas\u001b[39;00m src:\n\u001b[0;32m----> 3\u001b[0m     tiff_data \u001b[38;5;241m=\u001b[39m \u001b[43msrc\u001b[49m\u001b[38;5;241;43m.\u001b[39;49m\u001b[43mread\u001b[49m\u001b[43m(\u001b[49m\u001b[38;5;241;43m1\u001b[39;49m\u001b[43m,\u001b[49m\u001b[43m \u001b[49m\u001b[43mmasked\u001b[49m\u001b[38;5;241;43m=\u001b[39;49m\u001b[38;5;28;43;01mTrue\u001b[39;49;00m\u001b[43m)\u001b[49m\n\u001b[1;32m      4\u001b[0m     tiff_crs \u001b[38;5;241m=\u001b[39m src\u001b[38;5;241m.\u001b[39mcrs\u001b[38;5;241m.\u001b[39mto_string()\n\u001b[1;32m      6\u001b[0m \u001b[38;5;66;03m# Reproject the intersection shapefile to match the population density TIF file\u001b[39;00m\n",
      "File \u001b[0;32mrasterio/_io.pyx:602\u001b[0m, in \u001b[0;36mrasterio._io.DatasetReaderBase.read\u001b[0;34m()\u001b[0m\n",
      "File \u001b[0;32mrasterio/_base.pyx:646\u001b[0m, in \u001b[0;36mrasterio._base.DatasetBase.mask_flag_enums.__get__\u001b[0;34m()\u001b[0m\n",
      "File \u001b[0;32mrasterio/_base.pyx:648\u001b[0m, in \u001b[0;36mgenexpr\u001b[0;34m()\u001b[0m\n",
      "File \u001b[0;32mrasterio/_base.pyx:610\u001b[0m, in \u001b[0;36mgenexpr\u001b[0;34m()\u001b[0m\n",
      "File \u001b[0;32mrasterio/_base.pyx:610\u001b[0m, in \u001b[0;36mgenexpr\u001b[0;34m()\u001b[0m\n",
      "File \u001b[0;32mrasterio/_base.pyx:365\u001b[0m, in \u001b[0;36mrasterio._base.DatasetBase.band\u001b[0;34m()\u001b[0m\n",
      "File \u001b[0;32mrasterio/_base.pyx:358\u001b[0m, in \u001b[0;36mrasterio._base.DatasetBase.handle\u001b[0;34m()\u001b[0m\n",
      "\u001b[0;31mRasterioIOError\u001b[0m: Dataset is closed: ../data/LandScan_Clipped_NYC/day_clipped_population_density.tif"
     ]
    }
   ],
   "source": [
    "\n",
    "# Load the population density TIF file\n",
    "with lpd_day as src:\n",
    "    tiff_data = src.read(1, masked=True)\n",
    "    tiff_crs = src.crs.to_string()\n",
    "\n",
    "# # Reproject the intersection shapefile to match the population density TIF file\n",
    "# gdf = gdf.to_crs(tiff_crs)\n",
    "\n",
    "# # Create a new column in the intersection shapefile with the population density at each intersection\n",
    "# gdf['population_density'] = [tiff_data[~np.isnan(tiff_data)][np.where(src.index(x[0], x[1]) == (0,0))[0][0]] for x in gdf.geometry.centroid]\n",
    "\n",
    "# # Calculate the Pearson correlation coefficient between the population density and surveillance counts\n",
    "# corr, _ = pearsonr(gdf['population_density'], gdf['SURVEILLAN'])\n",
    "\n",
    "# # Plot the population density vs. surveillance counts\n",
    "# fig, ax = plt.subplots()\n",
    "# ax.scatter(gdf['population_density'], gdf['SURVEILLAN'])\n",
    "# ax.set_xlabel('Population density')\n",
    "# ax.set_ylabel('Surveillance counts')\n",
    "# ax.set_title('Population density vs. surveillance counts (Pearson correlation: {:.2f})'.format(corr))\n",
    "# plt.show()\n"
   ]
  },
  {
   "cell_type": "code",
   "execution_count": null,
   "id": "935b0da3",
   "metadata": {},
   "outputs": [],
   "source": []
  }
 ],
 "metadata": {
  "kernelspec": {
   "display_name": "Python 3 (ipykernel)",
   "language": "python",
   "name": "python3"
  },
  "language_info": {
   "codemirror_mode": {
    "name": "ipython",
    "version": 3
   },
   "file_extension": ".py",
   "mimetype": "text/x-python",
   "name": "python",
   "nbconvert_exporter": "python",
   "pygments_lexer": "ipython3",
   "version": "3.11.3"
  }
 },
 "nbformat": 4,
 "nbformat_minor": 5
}
